{
  "nbformat": 4,
  "nbformat_minor": 0,
  "metadata": {
    "colab": {
      "provenance": [],
      "authorship_tag": "ABX9TyO4nPsT8vig77SNka4v+WKN",
      "include_colab_link": true
    },
    "kernelspec": {
      "name": "python3",
      "display_name": "Python 3"
    },
    "language_info": {
      "name": "python"
    }
  },
  "cells": [
    {
      "cell_type": "markdown",
      "metadata": {
        "id": "view-in-github",
        "colab_type": "text"
      },
      "source": [
        "<a href=\"https://colab.research.google.com/github/Jose1gnacio/Python-Data-Analyst-NTTDATA/blob/main/Modulo4.ipynb\" target=\"_parent\"><img src=\"https://colab.research.google.com/assets/colab-badge.svg\" alt=\"Open In Colab\"/></a>"
      ]
    },
    {
      "cell_type": "code",
      "execution_count": 1,
      "metadata": {
        "colab": {
          "base_uri": "https://localhost:8080/"
        },
        "id": "0ogvYGtx_3gt",
        "outputId": "d0b6a4fe-510c-4827-a387-d743e52bbd72"
      },
      "outputs": [
        {
          "output_type": "stream",
          "name": "stdout",
          "text": [
            "Estoy en la Escuela de Talento DIgital\n"
          ]
        }
      ],
      "source": [
        "def escribir():\n",
        "  print('Estoy en la Escuela de Talento DIgital')\n",
        "\n",
        "escribir()"
      ]
    },
    {
      "cell_type": "code",
      "source": [
        "def alumno (nombre):\n",
        "  print(f\"{nombre} esta en la Escuela de talento digital\")\n",
        "\n",
        "alumno (\"José\")"
      ],
      "metadata": {
        "colab": {
          "base_uri": "https://localhost:8080/"
        },
        "id": "-Vj6vvS9E-D5",
        "outputId": "30ea4614-22b2-482b-9090-4d271b6e178d"
      },
      "execution_count": 2,
      "outputs": [
        {
          "output_type": "stream",
          "name": "stdout",
          "text": [
            "José esta en la Escuela de talento digital\n"
          ]
        }
      ]
    },
    {
      "cell_type": "code",
      "source": [
        "def mult(num):\n",
        "  return num * 3\n",
        "\n",
        "mult(11)\n"
      ],
      "metadata": {
        "colab": {
          "base_uri": "https://localhost:8080/"
        },
        "id": "r6khaoLXGCik",
        "outputId": "e9ba7058-ad3e-4df4-f140-0e1348a022dc"
      },
      "execution_count": 7,
      "outputs": [
        {
          "output_type": "execute_result",
          "data": {
            "text/plain": [
              "33"
            ]
          },
          "metadata": {},
          "execution_count": 7
        }
      ]
    },
    {
      "cell_type": "code",
      "source": [
        "for numero in range(0,11):\n",
        "  resultado = mult(numero)\n",
        "  print(resultado)\n"
      ],
      "metadata": {
        "colab": {
          "base_uri": "https://localhost:8080/"
        },
        "id": "QvcyjhVlHKJF",
        "outputId": "e4790143-6fef-4a2f-82d7-031f80971b88"
      },
      "execution_count": 8,
      "outputs": [
        {
          "output_type": "stream",
          "name": "stdout",
          "text": [
            "0\n",
            "3\n",
            "6\n",
            "9\n",
            "12\n",
            "15\n",
            "18\n",
            "21\n",
            "24\n",
            "27\n",
            "30\n"
          ]
        }
      ]
    },
    {
      "cell_type": "code",
      "source": [
        "def es_par(num):\n",
        "  if num % 2 == 0:\n",
        "    print(f\"El número {num} es par.\")\n",
        "  else:\n",
        "    print(f\"El número {num} es impar.\")\n",
        "es_par(11)\n",
        "es_par(14)\n",
        "es_par(22)"
      ],
      "metadata": {
        "colab": {
          "base_uri": "https://localhost:8080/"
        },
        "id": "TxLIrs1cJ3Ot",
        "outputId": "9a32731d-507b-4ae8-cc16-55c2d16487f6"
      },
      "execution_count": 9,
      "outputs": [
        {
          "output_type": "stream",
          "name": "stdout",
          "text": [
            "El número 11 es impar.\n",
            "El número 14 es par.\n",
            "El número 22 es par.\n"
          ]
        }
      ]
    },
    {
      "cell_type": "code",
      "source": [
        "def calcular_media(*args):\n",
        "    cantidad_numeros = len(args)\n",
        "    if cantidad_numeros == 0:\n",
        "        print(\"No se proporcionaron números para calcular la media.\")\n",
        "        return\n",
        "\n",
        "    suma_total = sum(args)\n",
        "    media = suma_total // cantidad_numeros\n",
        "    print(f\"La media de los números es: {media}\")\n",
        "\n",
        "# Ejemplos de uso\n",
        "calcular_media(2, 4, 6, 8)\n",
        "calcular_media(10, 20, 30, 40, 50)\n",
        "calcular_media(5, 15)\n"
      ],
      "metadata": {
        "colab": {
          "base_uri": "https://localhost:8080/"
        },
        "id": "_2iOBEiTLCHz",
        "outputId": "cfbcadc0-ab7d-415e-d179-42dc8c983a79"
      },
      "execution_count": 14,
      "outputs": [
        {
          "output_type": "stream",
          "name": "stdout",
          "text": [
            "La media de los números es: 5\n",
            "La media de los números es: 30\n",
            "La media de los números es: 10\n"
          ]
        }
      ]
    },
    {
      "cell_type": "code",
      "source": [
        "def entre_numeros(num1, num2):\n",
        "  print(f\"\\nLos numeros entre {num1} y {num2} son:\")\n",
        "  for num in range(num1, num2 +1):\n",
        "    print(num)\n",
        "entre_numeros(1, 11)\n",
        "entre_numeros(14, 27)"
      ],
      "metadata": {
        "colab": {
          "base_uri": "https://localhost:8080/"
        },
        "id": "k1HjC0UaNlIj",
        "outputId": "0c4ed9dd-dcd7-42db-9322-de8b6d2dd0ab"
      },
      "execution_count": 20,
      "outputs": [
        {
          "output_type": "stream",
          "name": "stdout",
          "text": [
            "\n",
            "Los numeros entre 1 y 11 son:\n",
            "1\n",
            "2\n",
            "3\n",
            "4\n",
            "5\n",
            "6\n",
            "7\n",
            "8\n",
            "9\n",
            "10\n",
            "11\n",
            "\n",
            "Los numeros entre 14 y 27 son:\n",
            "14\n",
            "15\n",
            "16\n",
            "17\n",
            "18\n",
            "19\n",
            "20\n",
            "21\n",
            "22\n",
            "23\n",
            "24\n",
            "25\n",
            "26\n",
            "27\n"
          ]
        }
      ]
    },
    {
      "cell_type": "code",
      "source": [
        "def max_min(*num):\n",
        "  max = 0\n",
        "  min = num[0]\n",
        "  for numero in num:\n",
        "    if numero > max:\n",
        "      max = numero\n",
        "    elif numero < min:\n",
        "      min = numero\n",
        "  print(f\"El máximo es {max} \\nEL mínimo es {min}\")\n",
        "max_min(3, 7, 11, 1)\n",
        "max_min(14, 4, 2, 3)\n",
        ""
      ],
      "metadata": {
        "colab": {
          "base_uri": "https://localhost:8080/"
        },
        "id": "3vTC5AERPf04",
        "outputId": "8c877f3c-fb4d-4aaa-f83a-103bd644d6d4"
      },
      "execution_count": 26,
      "outputs": [
        {
          "output_type": "stream",
          "name": "stdout",
          "text": [
            "El máximo es 11 \n",
            "EL mínimo es 1\n",
            "El máximo es 14 \n",
            "EL mínimo es 2\n"
          ]
        }
      ]
    },
    {
      "cell_type": "code",
      "source": [
        "def contador_caracteres(text):\n",
        "  result = len(text)\n",
        "  print(f\"El texto {text} tienes {result} caracteres.\")\n",
        "contador_caracteres(\"Hola como estas?\")\n",
        "contador_caracteres(\"paralelepipedo\")"
      ],
      "metadata": {
        "colab": {
          "base_uri": "https://localhost:8080/"
        },
        "id": "HtRbvZ5Pai9b",
        "outputId": "58aece7f-68b8-4574-f2bf-8388d71f308f"
      },
      "execution_count": 28,
      "outputs": [
        {
          "output_type": "stream",
          "name": "stdout",
          "text": [
            "El texto Hola como estas? tienes 16 caracteres.\n",
            "El texto paralelepipedo tienes 14 caracteres.\n"
          ]
        }
      ]
    },
    {
      "cell_type": "code",
      "source": [
        "''' hora = int(input(\"Ingresa hora: \"))\n",
        "minutos = int(input(\"Ingresa minutos: \"))\n",
        "segundos = int(input(\"Ingresa segundos: \")) '''\n",
        "def a_segundos(hora, minutos, segundos):\n",
        "  result = (hora * 3600) + (minutos * 60) + segundos\n",
        "  return result\n",
        "a_segundos(1, 1, 1)\n"
      ],
      "metadata": {
        "colab": {
          "base_uri": "https://localhost:8080/"
        },
        "id": "EQIe6e6bb1ek",
        "outputId": "3c32619d-bcb0-4da5-bb16-d0b79a025a71"
      },
      "execution_count": 38,
      "outputs": [
        {
          "output_type": "execute_result",
          "data": {
            "text/plain": [
              "3661"
            ]
          },
          "metadata": {},
          "execution_count": 38
        }
      ]
    },
    {
      "cell_type": "code",
      "source": [
        "def a_hora(segundos):\n",
        "  hora = segundos // 3600\n",
        "  resto = segundos % 3600\n",
        "  minutos = resto // 60\n",
        "  segundos = minutos % 60\n",
        "  return (hora, minutos, segundos)\n",
        "a_hora(3661)"
      ],
      "metadata": {
        "colab": {
          "base_uri": "https://localhost:8080/"
        },
        "id": "lCYTsUY7eDQg",
        "outputId": "163fda50-9690-4c1f-f218-cfbccebc35e8"
      },
      "execution_count": 39,
      "outputs": [
        {
          "output_type": "execute_result",
          "data": {
            "text/plain": [
              "(1, 1, 1)"
            ]
          },
          "metadata": {},
          "execution_count": 39
        }
      ]
    },
    {
      "cell_type": "code",
      "source": [
        "def a_segundos(hora, minutos, segundos):\n",
        "  result = (hora * 3600) + (minutos * 60) + segundos\n",
        "  return result\n",
        "\n",
        "def a_horas(segundos):\n",
        "  hora = segundos // 3600\n",
        "  resto = segundos % 3600\n",
        "  minutos = resto // 60\n",
        "  segundos =  resto % 60\n",
        "  return (hora, minutos, segundos)\n",
        "\n",
        "seleccion = int(input(\"Seleciona una opcion: \\n(1) Convertir a segundos. \\n(2) Convertir a hora, minutos y segundos \\n\"))\n",
        "if seleccion == 1:\n",
        "  hora = int(input(\"Ingresa hora: \"))\n",
        "  minutos = int(input(\"Ingresa minutos: \"))\n",
        "  segundos = int(input(\"Ingresa segundos: \"))\n",
        "  result = a_segundos(hora, minutos, segundos)\n",
        "  print(f\"La tiempo: {hora}:{minutos}:{segundos} tiene {result}\")\n",
        "elif seleccion == 2:\n",
        "    seg = int(input(\"Ingresa la cantidad de segundos: \"))\n",
        "    h, m, s = a_horas(seg)\n",
        "    print(f\"{seg} segundos corresponden a {h} horas, {m} minutos y {s} segundos.\")\n",
        "else:\n",
        "  print(\"La selección no es valida\")"
      ],
      "metadata": {
        "colab": {
          "base_uri": "https://localhost:8080/"
        },
        "id": "NTox5BJ7g8oK",
        "outputId": "bdaaee85-5304-4d40-e5aa-c2f899ca38de"
      },
      "execution_count": 52,
      "outputs": [
        {
          "output_type": "stream",
          "name": "stdout",
          "text": [
            "Seleciona una opcion: \n",
            "(1) Convertir a segundos. \n",
            "(2) Convertir a hora, minutos y segundos \n",
            "2\n",
            "Ingresa la cantidad de segundos: 40869\n",
            "40869 segundos corresponden a 11 horas, 21 minutos y 9 segundos.\n"
          ]
        }
      ]
    },
    {
      "cell_type": "code",
      "source": [
        "def contiene_arroba(texto):\n",
        "  if \"@\" in texto:\n",
        "   print(f\"El texto: {texto}, si contiene el arroba @\")\n",
        "  else:\n",
        "    print(f\"El texto: {texto}, no contiene @\")\n",
        "\n",
        "contiene_arroba(\"Yo no tengo correo\")\n",
        "contiene_arroba(\"tu te encuentras @rriba\")\n",
        ""
      ],
      "metadata": {
        "colab": {
          "base_uri": "https://localhost:8080/"
        },
        "id": "FbhpsCEmpeFn",
        "outputId": "275d2fd9-3af4-4943-bfde-b446dd42fed0"
      },
      "execution_count": 68,
      "outputs": [
        {
          "output_type": "stream",
          "name": "stdout",
          "text": [
            "El texto: Yo no tengo correo, no contiene @\n",
            "El texto: tu te encuentras @rriba, si contiene el arroba @\n"
          ]
        }
      ]
    },
    {
      "cell_type": "code",
      "source": [
        "valor = int(input(\"Ingresa el valor total: \"))\n",
        "impuesto = int(input(\"Ingresa el porcentaje de impuesto: \"))\n",
        "def calculo_impuesto(valor, impuesto):\n",
        "  total = valor * (1 + impuesto / 100)\n",
        "  return total\n",
        "total_con_impuesto = calculo_impuesto(valor,impuesto)\n",
        "print(f\"El total con impuesto incluido es: {total_con_impuesto}\")\n"
      ],
      "metadata": {
        "colab": {
          "base_uri": "https://localhost:8080/"
        },
        "id": "a0D7YS3Jp-2E",
        "outputId": "7b8ee545-f402-4f8e-ed66-0e8779100f6e"
      },
      "execution_count": 70,
      "outputs": [
        {
          "output_type": "stream",
          "name": "stdout",
          "text": [
            "Ingresa el valor total: 1000\n",
            "Ingresa el porcentaje de impuesto: 19\n",
            "El total con impuesto incluido es: 1190.0\n"
          ]
        }
      ]
    },
    {
      "cell_type": "code",
      "source": [
        "lista_suma = []\n",
        "for i in range(0,3):\n",
        "  suma = 0\n",
        "  condicion = True\n",
        "  while condicion:\n",
        "   numero = int(input(\"Ingrese un número: \"))\n",
        "   if numero == 0:\n",
        "    lista_suma.append(suma)\n",
        "    condicion = False\n",
        "    print(f\"La suma de todos los números ingresados es: {suma}\")\n",
        "   else:\n",
        "     suma+= numero\n",
        "maximo = max(lista_suma)\n",
        "print(f\"El máximo de los resultados totales es: {maximo}\")\n",
        "\n"
      ],
      "metadata": {
        "colab": {
          "base_uri": "https://localhost:8080/"
        },
        "id": "Yws8195-uPf4",
        "outputId": "0817cc13-f48d-4fdf-dc35-7386da4ee7ac"
      },
      "execution_count": 74,
      "outputs": [
        {
          "output_type": "stream",
          "name": "stdout",
          "text": [
            "Ingrese un número: 1\n",
            "Ingrese un número: 2\n",
            "Ingrese un número: 0\n",
            "La suma de todos los números ingresados es: 3\n",
            "Ingrese un número: 2\n",
            "Ingrese un número: 3\n",
            "Ingrese un número: 0\n",
            "La suma de todos los números ingresados es: 5\n",
            "Ingrese un número: 1\n",
            "Ingrese un número: 1\n",
            "Ingrese un número: 0\n",
            "La suma de todos los números ingresados es: 2\n",
            "El máximo de los resultados totales es: 5\n"
          ]
        }
      ]
    },
    {
      "cell_type": "code",
      "source": [
        "def maximo(x, y):#Cambiamos a por x y b por y\n",
        "    if x>y:\n",
        "        return x\n",
        "    else:\n",
        "        return y\n",
        "\n",
        "def minimo(x, y):#Cambiamos a por x y b por y\n",
        "    if x<y:\n",
        "        return x\n",
        "    else:\n",
        "        return y\n",
        "\n",
        "x=int(input(\"Un número: \"))\n",
        "y=int(input(\"Otro número: \"))\n",
        "print(maximo(x-3, minimo(x+2, y-5)))"
      ],
      "metadata": {
        "colab": {
          "base_uri": "https://localhost:8080/"
        },
        "id": "q5WhyHOjxne6",
        "outputId": "c8126e27-1237-4207-a03f-94e9d8bae05c"
      },
      "execution_count": 76,
      "outputs": [
        {
          "output_type": "stream",
          "name": "stdout",
          "text": [
            "Un número: 5\n",
            "Otro número: 1\n",
            "2\n"
          ]
        }
      ]
    },
    {
      "cell_type": "code",
      "source": [
        "def suma_digitos(numero):\n",
        "  suma = 0\n",
        "  for i in str(numero):\n",
        "    suma += int(i)\n",
        "  print(f\"La suma de los digitos de {numero} es {suma}\")\n",
        "suma_digitos(2024)\n",
        "suma_digitos(1451)\n",
        "suma_digitos(3434)\n"
      ],
      "metadata": {
        "colab": {
          "base_uri": "https://localhost:8080/"
        },
        "id": "TDOEzlsmzlw1",
        "outputId": "7ef6ba27-75cb-4ed9-ef94-040eae0cde5b"
      },
      "execution_count": 85,
      "outputs": [
        {
          "output_type": "stream",
          "name": "stdout",
          "text": [
            "La suma de los digitos de 2024 es 8\n",
            "La suma de los digitos de 1451 es 11\n",
            "La suma de los digitos de 3434 es 14\n"
          ]
        }
      ]
    },
    {
      "cell_type": "code",
      "source": [
        "def es_primo(numero):\n",
        "    if numero <= 1:\n",
        "        return False\n",
        "    for i in range(2, numero // 2 + 1):\n",
        "        if numero % i == 0:\n",
        "            return False\n",
        "    return True\n",
        "\n",
        "numero = int(input(\"Ingrese un número: \"))\n",
        "if es_primo(numero):\n",
        "    print(f\"{numero} es un número primo.\")\n",
        "else:\n",
        "    print(f\"{numero} no es un número primo.\")\n"
      ],
      "metadata": {
        "colab": {
          "base_uri": "https://localhost:8080/"
        },
        "id": "Su7X9uDa1z5o",
        "outputId": "b92fe51d-cb89-4910-8307-fab97318272c"
      },
      "execution_count": 88,
      "outputs": [
        {
          "output_type": "stream",
          "name": "stdout",
          "text": [
            "Ingrese un número: 27\n",
            "27 no es un número primo.\n"
          ]
        }
      ]
    },
    {
      "cell_type": "code",
      "source": [
        "def es_bisiesto(year):\n",
        "    if year % 4 == 0:\n",
        "        if year % 100 == 0:\n",
        "            if year % 400 == 0:\n",
        "                return True\n",
        "            else:\n",
        "                return False\n",
        "        else:\n",
        "            return True\n",
        "    else:\n",
        "        return False\n",
        "\n",
        "year = 2023\n",
        "if es_bisiesto(year):\n",
        "    print(f\"{year} es un año bisiesto.\")\n",
        "else:\n",
        "    print(f\"{year} no es un año bisiesto.\")\n"
      ],
      "metadata": {
        "colab": {
          "base_uri": "https://localhost:8080/"
        },
        "id": "D-iFXx3J4h_d",
        "outputId": "f272836c-70f3-4619-dd37-47a0273d9733"
      },
      "execution_count": 98,
      "outputs": [
        {
          "output_type": "stream",
          "name": "stdout",
          "text": [
            "2023 no es un año bisiesto.\n"
          ]
        }
      ]
    },
    {
      "cell_type": "code",
      "source": [
        "mes = input(\"Ingresa el nombre del mes: \")\n",
        "year = int(input(\"Ingresa el año: \"))\n",
        "\n",
        "def es_bisiesto(year):\n",
        "    if year % 4 == 0 and (year % 100 != 0 or year % 400 == 0):\n",
        "        return True\n",
        "    else:\n",
        "        return False\n",
        "\n",
        "def calculo_dias(mes, year):\n",
        "    meses = {\n",
        "        \"enero\": 31,\n",
        "        \"febrero\": 29 if es_bisiesto(year) else 28,\n",
        "        \"marzo\": 31,\n",
        "        \"abril\": 30,\n",
        "        \"mayo\": 31,\n",
        "        \"junio\": 30,\n",
        "        \"julio\": 31,\n",
        "        \"agosto\": 31,\n",
        "        \"septiembre\": 30,\n",
        "        \"octubre\": 31,\n",
        "        \"noviembre\": 30,\n",
        "        \"diciembre\": 31\n",
        "    }\n",
        "    return meses[mes.lower()]\n",
        "\n",
        "resultado = calculo_dias(mes, year)\n",
        "print(f\"El mes {mes} del año {year} tiene {resultado} dias\")\n",
        "\n",
        "\n"
      ],
      "metadata": {
        "colab": {
          "base_uri": "https://localhost:8080/"
        },
        "id": "9MCpvuZL9LTp",
        "outputId": "e22c18bf-723e-4913-b610-b6fcc46a36d0"
      },
      "execution_count": 102,
      "outputs": [
        {
          "output_type": "stream",
          "name": "stdout",
          "text": [
            "Ingresa el nombre del mes: DiciemBre\n",
            "Ingresa el año: 1911\n",
            "El mes DiciemBre del año 1911 tiene 31 dias\n"
          ]
        }
      ]
    }
  ]
}