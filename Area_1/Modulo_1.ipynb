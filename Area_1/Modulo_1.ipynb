{
  "nbformat": 4,
  "nbformat_minor": 0,
  "metadata": {
    "colab": {
      "provenance": [],
      "authorship_tag": "ABX9TyPRjIFMqTkGYgN/KYG5jFA6",
      "include_colab_link": true
    },
    "kernelspec": {
      "name": "python3",
      "display_name": "Python 3"
    },
    "language_info": {
      "name": "python"
    }
  },
  "cells": [
    {
      "cell_type": "markdown",
      "metadata": {
        "id": "view-in-github",
        "colab_type": "text"
      },
      "source": [
        "<a href=\"https://colab.research.google.com/github/Jose1gnacio/Python-Data-Analyst-NTTDATA/blob/main/Modulo_1.ipynb\" target=\"_parent\"><img src=\"https://colab.research.google.com/assets/colab-badge.svg\" alt=\"Open In Colab\"/></a>"
      ]
    },
    {
      "cell_type": "code",
      "execution_count": 3,
      "metadata": {
        "colab": {
          "base_uri": "https://localhost:8080/"
        },
        "id": "FhBgIRPIxYgn",
        "outputId": "cad44847-a0b6-4e42-a9a5-6c5dd5ea9724"
      },
      "outputs": [
        {
          "output_type": "stream",
          "name": "stdout",
          "text": [
            "Introduce un número entero: 10\n",
            "Introduce un número decimal: 1.1\n",
            "El resultdado de la suma es 11.1\n",
            "Introduce otro número entero: 2\n",
            "El resultado de la multiplicación es 22.2\n"
          ]
        }
      ],
      "source": [
        "num_entero = int(input(\"Introduce un número entero: \"))\n",
        "num_decimal = float(input(\"Introduce un número decimal: \"))\n",
        "total_suma = num_entero + num_decimal\n",
        "print(\"El resultdado de la suma es\", total_suma)\n",
        "num_entero_2 = int(input(\"Introduce otro número entero: \"))\n",
        "total_multiplicacion = total_suma * num_entero_2\n",
        "print(\"El resultado de la multiplicación es\", total_multiplicacion)"
      ]
    },
    {
      "cell_type": "code",
      "source": [
        "a = float(input(\"Introduce el valor de a: \"))\n",
        "b = float(input(\"Introduce el valor de b: \"))\n",
        "c = float(input(\"Introduce el valor de c: \"))\n",
        "\n",
        "discriminante = b**2 - 4 * a * c\n",
        "denominador = 2 * a\n",
        "\n",
        "\n",
        "raiz_1 = (-b + (discriminante ** 0.5)) / (denominador)\n",
        "raiz_2 = (-b - (discriminante ** 0.5)) / (denominador)\n",
        "\n",
        "print(\"El valor de la primera raíz es:\", raiz_1)\n",
        "print(\"El valor de la segunda raíz es:\", raiz_2)\n",
        "\n",
        "\n"
      ],
      "metadata": {
        "colab": {
          "base_uri": "https://localhost:8080/"
        },
        "id": "VzXqimcq77-z",
        "outputId": "92129857-e09b-43ea-9025-e974ed8c3bef"
      },
      "execution_count": 15,
      "outputs": [
        {
          "output_type": "stream",
          "name": "stdout",
          "text": [
            "Introduce el valor de a: 2\n",
            "Introduce el valor de b: -6\n",
            "Introduce el valor de c: 2\n",
            "El valor de la primera raíz es: 2.618033988749895\n",
            "El valor de la segunda raíz es: 0.3819660112501051\n"
          ]
        }
      ]
    },
    {
      "cell_type": "code",
      "source": [
        "peso = float(input(\"Introduce tu peso en kilogramos: \"))\n",
        "estatura = float(input(\"Introduce tu estatura en metros: \"))\n",
        "\n",
        "imc = peso / (estatura ** 2)\n",
        "\n",
        "print(\"Tu índice de masa corporal es:\", imc)"
      ],
      "metadata": {
        "colab": {
          "base_uri": "https://localhost:8080/"
        },
        "id": "C7BfK_b3_72N",
        "outputId": "09be0c3b-cb75-4f2e-a261-b686a3bc94bb"
      },
      "execution_count": 16,
      "outputs": [
        {
          "output_type": "stream",
          "name": "stdout",
          "text": [
            "Introduce tu peso en kilogramos: 75\n",
            "Introduce tu estatura en metros: 1.81\n",
            "Tu índice de masa corporal es: 22.89307408198773\n"
          ]
        }
      ]
    },
    {
      "cell_type": "code",
      "source": [
        "saldo_inicial = float(input(\"Introduce el saldo inicial en dolares de tu plan de pensiones: \"))\n",
        "\n",
        "interes_primer_año = saldo_inicial * 0.03\n",
        "saldo_primer_año = saldo_inicial + interes_primer_año\n",
        "\n",
        "interes_segundo_año = saldo_primer_año * 0.03\n",
        "saldo_segundo_año = saldo_primer_año + interes_segundo_año\n",
        "\n",
        "print(f\"Después del primer año, tu saldo será: ${saldo_primer_año} USD\")\n",
        "print(f\"Después del segundo año, tu saldo será: ${saldo_segundo_año} USD\")"
      ],
      "metadata": {
        "colab": {
          "base_uri": "https://localhost:8080/"
        },
        "id": "AITVvImOAqh7",
        "outputId": "3c10ee2d-df54-47a1-f64f-8b333f04d319"
      },
      "execution_count": 19,
      "outputs": [
        {
          "output_type": "stream",
          "name": "stdout",
          "text": [
            "Introduce el saldo inicial en dolares de tu plan de pensiones: 10000\n",
            "Después del primer año, tu saldo será: $10300.0 USD\n",
            "Después del segundo año, tu saldo será: $10609.0 USD\n"
          ]
        }
      ]
    },
    {
      "cell_type": "code",
      "source": [
        "dolares = float(input(\"¿Cuántos dólares tienes? \"))\n",
        "euros = float(input(\"¿Cuántos euros tienes? \"))\n",
        "\n",
        "tipo_cambio_dolar = 0.83\n",
        "tipo_cambio_euro = 0.88\n",
        "\n",
        "libras_dolares = dolares * tipo_cambio_dolar\n",
        "libras_euros = euros * tipo_cambio_euro\n",
        "total_libras = libras_dolares + libras_euros\n",
        "\n",
        "print(f\"Entonces tienes {total_libras} libras.\")"
      ],
      "metadata": {
        "colab": {
          "base_uri": "https://localhost:8080/"
        },
        "id": "5NHvXkxjB97V",
        "outputId": "e6295a41-dacc-4ff0-82f6-de8c46b26005"
      },
      "execution_count": 20,
      "outputs": [
        {
          "output_type": "stream",
          "name": "stdout",
          "text": [
            "¿Cuántos dólares tienes? 1100\n",
            "¿Cuántos euros tienes? 2000\n",
            "Entonces tienes 2673.0 libras.\n"
          ]
        }
      ]
    },
    {
      "cell_type": "code",
      "source": [
        "palabra = input(\"Introduce una palabra: \")\n",
        "\n",
        "num_letras = len(palabra)\n",
        "\n",
        "print(f\"{palabra} tiene {num_letras} letras.\")"
      ],
      "metadata": {
        "colab": {
          "base_uri": "https://localhost:8080/"
        },
        "id": "sKrMm6jPD0Ut",
        "outputId": "defd63c9-429a-4205-e2e2-934ed3665a61"
      },
      "execution_count": 23,
      "outputs": [
        {
          "output_type": "stream",
          "name": "stdout",
          "text": [
            "Introduce una palabra: Universo\n",
            "Universo tiene 8 letras.\n"
          ]
        }
      ]
    }
  ]
}