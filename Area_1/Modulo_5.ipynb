{
  "nbformat": 4,
  "nbformat_minor": 0,
  "metadata": {
    "colab": {
      "provenance": [],
      "authorship_tag": "ABX9TyO4eWhPEtIHWjcFh8gKNm8h",
      "include_colab_link": true
    },
    "kernelspec": {
      "name": "python3",
      "display_name": "Python 3"
    },
    "language_info": {
      "name": "python"
    }
  },
  "cells": [
    {
      "cell_type": "markdown",
      "metadata": {
        "id": "view-in-github",
        "colab_type": "text"
      },
      "source": [
        "<a href=\"https://colab.research.google.com/github/Jose1gnacio/Python-Data-Analyst-NTTDATA/blob/main/Modulo_5.ipynb\" target=\"_parent\"><img src=\"https://colab.research.google.com/assets/colab-badge.svg\" alt=\"Open In Colab\"/></a>"
      ]
    },
    {
      "cell_type": "code",
      "execution_count": 8,
      "metadata": {
        "colab": {
          "base_uri": "https://localhost:8080/"
        },
        "id": "WEfjb0T5UHpg",
        "outputId": "af39050c-a167-4cbd-bc58-2f0656dbdef5"
      },
      "outputs": [
        {
          "output_type": "stream",
          "name": "stdout",
          "text": [
            "La fecha y hora actual en Chile es: 2024-05-14 09:43:32.910526-04:00\n"
          ]
        }
      ],
      "source": [
        "import datetime\n",
        "import pytz\n",
        "\n",
        "zona_horaria_chile = pytz.timezone('America/Santiago')\n",
        "\n",
        "fecha_actual_chile = datetime.datetime.now(tz=zona_horaria_chile)\n",
        "\n",
        "print(f\"La fecha y hora actual en Chile es: {fecha_actual_chile}\")"
      ]
    },
    {
      "cell_type": "code",
      "source": [
        "from datetime import date\n",
        "\n",
        "fecha_actual = date.today()\n",
        "\n",
        "print(\"La fecha de hoy es:\", fecha_actual)\n"
      ],
      "metadata": {
        "colab": {
          "base_uri": "https://localhost:8080/"
        },
        "id": "ldLLxqghWh5B",
        "outputId": "fe992b5f-ee97-40ea-9fa2-781eb2bd0325"
      },
      "execution_count": 9,
      "outputs": [
        {
          "output_type": "stream",
          "name": "stdout",
          "text": [
            "La fecha de hoy es: 2024-05-14\n"
          ]
        }
      ]
    },
    {
      "cell_type": "code",
      "source": [
        "nueva_fecha = fecha_actual.replace(year=2023, month=12, day=26)\n",
        "\n",
        "print(\"La nueva fecha es:\", nueva_fecha)"
      ],
      "metadata": {
        "colab": {
          "base_uri": "https://localhost:8080/"
        },
        "id": "sNupF0iVXGFd",
        "outputId": "a44197be-8fed-4761-c7e9-fb230980b8d0"
      },
      "execution_count": 10,
      "outputs": [
        {
          "output_type": "stream",
          "name": "stdout",
          "text": [
            "La nueva fecha es: 2023-12-26\n"
          ]
        }
      ]
    },
    {
      "cell_type": "code",
      "source": [
        "import random\n",
        "\n",
        "numero_aleatorio = random.random()\n",
        "\n",
        "print(f\"Número aleatorio entre 0.0 y 1.0: {numero_aleatorio}\")"
      ],
      "metadata": {
        "colab": {
          "base_uri": "https://localhost:8080/"
        },
        "id": "Uo2RilppXqVs",
        "outputId": "a8724d60-a500-4814-8543-438d32e12a49"
      },
      "execution_count": 13,
      "outputs": [
        {
          "output_type": "stream",
          "name": "stdout",
          "text": [
            "Número aleatorio entre 0.0 y 1.0: 0.007312641261132846\n"
          ]
        }
      ]
    },
    {
      "cell_type": "code",
      "source": [
        "#Para generar un número en un rango específico, usaria random.uniform(a, b) de la librería random.\n",
        "\n",
        "import random\n",
        "\n",
        "numero_aleatorio = random.uniform(4, 6)\n",
        "print(f\"Número decimal aleatorio entre 4 y 6: {numero_aleatorio}\")\n",
        "\n",
        "#Si quiero generar un número entero uso la función random.randint(a, b). de la librería random.\n",
        "numero_entero_aleatorio = random.randint(4, 6)\n",
        "print(f\"Número entero aleatorio entre 4 y 6: {numero_entero_aleatorio}\")"
      ],
      "metadata": {
        "colab": {
          "base_uri": "https://localhost:8080/"
        },
        "id": "y2zZU0qXZUO2",
        "outputId": "5be372d1-aad9-4422-f244-8a1b0ea602f1"
      },
      "execution_count": 16,
      "outputs": [
        {
          "output_type": "stream",
          "name": "stdout",
          "text": [
            "Número decimal aleatorio entre 4 y 6: 4.594461275790695\n",
            "Número entero aleatorio entre 4 y 6: 5\n"
          ]
        }
      ]
    }
  ]
}