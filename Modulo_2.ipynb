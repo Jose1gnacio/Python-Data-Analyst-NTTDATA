{
  "nbformat": 4,
  "nbformat_minor": 0,
  "metadata": {
    "colab": {
      "provenance": [],
      "authorship_tag": "ABX9TyPX5vxTonBIu25WKunuaHyO",
      "include_colab_link": true
    },
    "kernelspec": {
      "name": "python3",
      "display_name": "Python 3"
    },
    "language_info": {
      "name": "python"
    }
  },
  "cells": [
    {
      "cell_type": "markdown",
      "metadata": {
        "id": "view-in-github",
        "colab_type": "text"
      },
      "source": [
        "<a href=\"https://colab.research.google.com/github/Jose1gnacio/Python-Data-Analyst-NTTDATA/blob/main/Modulo_2.ipynb\" target=\"_parent\"><img src=\"https://colab.research.google.com/assets/colab-badge.svg\" alt=\"Open In Colab\"/></a>"
      ]
    },
    {
      "cell_type": "code",
      "source": [
        "edad = int(input(\"Ingresa tu edad: \"))\n",
        "if edad >= 18:\n",
        "  print(\"Eres mayor de edad\")\n",
        "else:\n",
        "  print(\"Eres menor de edad\")"
      ],
      "metadata": {
        "colab": {
          "base_uri": "https://localhost:8080/"
        },
        "id": "_k8a7h9faI5w",
        "outputId": "d7f5ca33-8e71-4f63-f35a-edf1a1de31e9"
      },
      "execution_count": 3,
      "outputs": [
        {
          "output_type": "stream",
          "name": "stdout",
          "text": [
            "Ingresa tu edad: 18\n",
            "Eres maoyr de edad\n"
          ]
        }
      ]
    },
    {
      "cell_type": "code",
      "source": [
        "num = int(input(\"Ingresa un número entero: \"))\n",
        "if num % 2 == 0:\n",
        "  print(\"Este número es par\")\n",
        "else:\n",
        "  print(\"Este número es impar\")"
      ],
      "metadata": {
        "colab": {
          "base_uri": "https://localhost:8080/"
        },
        "id": "u3Jp2Xu0br8W",
        "outputId": "2569e68b-9290-4cae-ed79-d244a8612915"
      },
      "execution_count": 6,
      "outputs": [
        {
          "output_type": "stream",
          "name": "stdout",
          "text": [
            "Ingresa un número entero: 11\n",
            "Este número es impar\n"
          ]
        }
      ]
    },
    {
      "cell_type": "code",
      "source": [
        "numerador = float(input(\"Ingresa el numerador: \"))\n",
        "denominador = float(input(\"Ingresa el denominador: \"))\n",
        "if denominador != 0:\n",
        "  print(numerador / denominador)\n",
        "else:\n",
        "  print(\"El denominador no puede ser 0\")"
      ],
      "metadata": {
        "colab": {
          "base_uri": "https://localhost:8080/"
        },
        "id": "-HgaLUigcj__",
        "outputId": "44928d11-f867-4fbf-98a5-66146e0c9a73"
      },
      "execution_count": 9,
      "outputs": [
        {
          "output_type": "stream",
          "name": "stdout",
          "text": [
            "Ingresa el numerador: 1\n",
            "Ingresa el denominador: 0\n",
            "El denominador no puede ser 0\n"
          ]
        }
      ]
    },
    {
      "cell_type": "code",
      "source": [
        "año_actual = int(input(\"Introduce el año actual: \"))\n",
        "año_cualquiera = int(input(\"Introduce un año cualquiera: \"))\n",
        "if año_actual < año_cualquiera:\n",
        "  print(f\"Quedan {año_cualquiera - año_actual} años para llegar al año {año_cualquiera}\")\n",
        "elif año_actual > año_cualquiera:\n",
        "  print(f\"Desde el año {año_actual} han pasado {año_actual - año_cualquiera} años.\")\n",
        "else:\n",
        "  print(\"Ambos años son el mismo.\")"
      ],
      "metadata": {
        "colab": {
          "base_uri": "https://localhost:8080/"
        },
        "id": "oNr68bS8drgE",
        "outputId": "6ec21aa8-e101-4c1a-de46-06266488e346"
      },
      "execution_count": 14,
      "outputs": [
        {
          "output_type": "stream",
          "name": "stdout",
          "text": [
            "Introduce el año actual: 2024\n",
            "Introduce un año cualquiera: 2024\n",
            "Ambos años son el mismo.\n"
          ]
        }
      ]
    },
    {
      "cell_type": "code",
      "source": [
        "nombre_1 = input(\"Ingresa un nombre: \")\n",
        "nombre_2 = input(\"Ingresa otro nombre: \")\n",
        "if nombre_1[0].lower() == nombre_2[0].lower() and nombre_1[-1].lower() == nombre_2[-1].lower():\n",
        "  print(\"Ambos nombres comienzan y terminan con la misma letra.\")\n",
        "elif nombre_1[0].lower() == nombre_2[0].lower():\n",
        "  print(\"Ambos nombres comienzan por la misma letra\")\n",
        "elif nombre_1[-1].lower() == nombre_2[-1].lower():\n",
        "  print(\"Ambos nombres terminan con la misma letra\")\n",
        "else:\n",
        "  print(\"Los nombres no coinciden\")"
      ],
      "metadata": {
        "colab": {
          "base_uri": "https://localhost:8080/"
        },
        "id": "7gU46Xiif0WZ",
        "outputId": "6e32195a-8fe3-4af6-cf48-c0f3c2d5566c"
      },
      "execution_count": 22,
      "outputs": [
        {
          "output_type": "stream",
          "name": "stdout",
          "text": [
            "Ingresa un nombre: Nicole\n",
            "Ingresa otro nombre: Ignacio\n",
            "Los nombres no coinciden\n"
          ]
        }
      ]
    },
    {
      "cell_type": "code",
      "source": [
        "salario_actual = int(input(\"Ingresa tu salario actual: \"))\n",
        "if salario_actual < 15000:\n",
        "    nuevo_salario = salario_actual * 1.1\n",
        "    print(f\"Tu nuevo salario es de {nuevo_salario}\")\n",
        "elif salario_actual >= 15000 and salario_actual < 20000:\n",
        "    nuevo_salario = salario_actual * 1.05\n",
        "    print(f\"Tu nuevo salario es de {nuevo_salario}\")\n",
        "else:\n",
        "    nuevo_salario = salario_actual * 1.025\n",
        "    print(f\"Tu nuevo salario es de {nuevo_salario}\")"
      ],
      "metadata": {
        "colab": {
          "base_uri": "https://localhost:8080/"
        },
        "id": "J1SkqrQsjZCn",
        "outputId": "b3b4c1b8-8cbf-41a5-ff3c-71395cf8cd91"
      },
      "execution_count": 25,
      "outputs": [
        {
          "output_type": "stream",
          "name": "stdout",
          "text": [
            "Ingresa tu salario actual: 1000\n",
            "Tu nuevo salario es de 1100.0\n"
          ]
        }
      ]
    },
    {
      "cell_type": "code",
      "source": [
        "respuestas = [\n",
        "    \"Sí, definitivamente sí.\",\n",
        "    \"Probablemente.\",\n",
        "    \"Sin duda alguna.\",\n",
        "    \"No lo sé, pregunta de nuevo.\",\n",
        "    \"Prueba más tarde.\",\n",
        "    \"Mejor que no lo sepas.\",\n",
        "    \"No, definitivamente no.\",\n",
        "    \"No pinta muy bien.\",\n",
        "    \"Tengo dudas al respecto.\"\n",
        "]\n",
        "\n",
        "pregunta = input(\"Haz una pregunta que se pueda responder con sí o no: \")\n",
        "\n",
        "indice_respuesta = len(pregunta) % len(respuestas)\n",
        "respuesta = respuestas[indice_respuesta]\n",
        "\n",
        "print(f\"La bola mágica dice: {respuesta}\")"
      ],
      "metadata": {
        "colab": {
          "base_uri": "https://localhost:8080/"
        },
        "id": "fAyBXGGfqrcI",
        "outputId": "394c682c-c25d-4b6a-dd5f-f9fe0d2220d2"
      },
      "execution_count": 30,
      "outputs": [
        {
          "output_type": "stream",
          "name": "stdout",
          "text": [
            "Haz una pregunta que se pueda responder con sí o no: Debería estudiar hoy?\n",
            "La bola mágica dice: No lo sé, pregunta de nuevo.\n"
          ]
        }
      ]
    },
    {
      "cell_type": "code",
      "source": [
        "pin = input(\"Introduce tu número pin: \")\n",
        "if pin == \"1234\":\n",
        "  print(\"PIN aceptado.\")\n",
        "else:\n",
        "  print(\"El PIN es incorrecto. Inténtelo de nuevo\")\n"
      ],
      "metadata": {
        "colab": {
          "base_uri": "https://localhost:8080/"
        },
        "id": "Mgw772bbtcbP",
        "outputId": "fa51c3bc-79c7-4abc-8d99-7091b3ef0fae"
      },
      "execution_count": 33,
      "outputs": [
        {
          "output_type": "stream",
          "name": "stdout",
          "text": [
            "Introduce tu número pin: 1234\n",
            "PIN aceptado.\n"
          ]
        }
      ]
    },
    {
      "cell_type": "code",
      "source": [
        "suma = 0\n",
        "\n",
        "while True:\n",
        "    numero = int(input(\"Introduce un número: \"))\n",
        "    if numero == 0:\n",
        "        break\n",
        "    suma += numero\n",
        "\n",
        "print(f\"La suma de todos los números introducidos es: {suma}\")\n"
      ],
      "metadata": {
        "colab": {
          "base_uri": "https://localhost:8080/"
        },
        "id": "GZyYgQ_-uRa_",
        "outputId": "f697a9a6-d0ab-4e24-fb93-13a7e9b0ac81"
      },
      "execution_count": 34,
      "outputs": [
        {
          "output_type": "stream",
          "name": "stdout",
          "text": [
            "Introduce un número: 1\n",
            "Introduce un número: 2\n",
            "Introduce un número: 6\n",
            "Introduce un número: 2\n",
            "Introduce un número: 0\n",
            "La suma de todos los números introducidos es: 11\n"
          ]
        }
      ]
    },
    {
      "cell_type": "code",
      "source": [
        "meta = int(input(\"Cuanto dinero quieres ahorrar? \"))\n",
        "\n",
        "ahorro_actual = 0\n",
        "\n",
        "while ahorro_actual < meta:\n",
        "    ahorro = int(input(\"Introduce dinero para ahorrar: \"))\n",
        "    ahorro_actual += ahorro\n",
        "\n",
        "print(f\"La suma de todos los números introducidos es: {ahorro_actual}\")\n"
      ],
      "metadata": {
        "colab": {
          "base_uri": "https://localhost:8080/"
        },
        "id": "k7oDFk4Fvroc",
        "outputId": "2e551631-8ef1-4460-f2b0-cca032a5fb66"
      },
      "execution_count": 36,
      "outputs": [
        {
          "output_type": "stream",
          "name": "stdout",
          "text": [
            "Cuanto dinero quieres ahorrar? 1000\n",
            "Introduce dinero para ahorrar: 100\n",
            "Introduce dinero para ahorrar: 400\n",
            "Introduce dinero para ahorrar: 900\n",
            "La suma de todos los números introducidos es: 1400\n"
          ]
        }
      ]
    },
    {
      "cell_type": "code",
      "source": [
        "numero = input(\"Introduce un número positivo: \")\n",
        "suma = 0\n",
        "\n",
        "for digito in numero:\n",
        "    suma += int(digito)\n",
        "\n",
        "print(\"La suma de los dígitos es:\", suma)"
      ],
      "metadata": {
        "colab": {
          "base_uri": "https://localhost:8080/"
        },
        "id": "mSpqpvAGyuG9",
        "outputId": "a9f3fa50-243f-456b-cf1c-0827d96d57e9"
      },
      "execution_count": 40,
      "outputs": [
        {
          "output_type": "stream",
          "name": "stdout",
          "text": [
            "Introduce un número positivo: 12341\n",
            "La suma de los dígitos es: 11\n"
          ]
        }
      ]
    },
    {
      "cell_type": "code",
      "source": [
        "while True:\n",
        "    palabra = input(\"Introduce una palabra: \")\n",
        "    if palabra.lower() == \"salir\":\n",
        "        break\n",
        "    print(f\"La palabra que ingresaste es {palabra}\")\n",
        "print(\"El programa ha terminado\")"
      ],
      "metadata": {
        "colab": {
          "base_uri": "https://localhost:8080/"
        },
        "id": "HBEak2Me1sAS",
        "outputId": "e8ddf76c-c9f4-46b8-b10e-d7299f8bf285"
      },
      "execution_count": 43,
      "outputs": [
        {
          "output_type": "stream",
          "name": "stdout",
          "text": [
            "Introduce una palabra: Cuaderno\n",
            "La palabra que ingresaste es Cuaderno\n",
            "Introduce una palabra: Perro\n",
            "La palabra que ingresaste es Perro\n",
            "Introduce una palabra: Salir\n",
            "El programa ha terminado\n"
          ]
        }
      ]
    },
    {
      "cell_type": "code",
      "source": [
        "x = 0\n",
        "while x < 6:\n",
        "  print(f\"El cuadrado de {x} es {x**2}\")\n",
        "  x += 1\n"
      ],
      "metadata": {
        "colab": {
          "base_uri": "https://localhost:8080/"
        },
        "id": "rZzoOwdr2xdX",
        "outputId": "0e417b44-26fc-42b8-d650-17e28a13288e"
      },
      "execution_count": 47,
      "outputs": [
        {
          "output_type": "stream",
          "name": "stdout",
          "text": [
            "El cuadrado de 0 es 0\n",
            "El cuadrado de 1 es 1\n",
            "El cuadrado de 2 es 4\n",
            "El cuadrado de 3 es 9\n",
            "El cuadrado de 4 es 16\n",
            "El cuadrado de 5 es 25\n"
          ]
        }
      ]
    },
    {
      "cell_type": "code",
      "source": [
        "while True:\n",
        "    numero = int(input(\"Introduce un número mayor que cero: \"))\n",
        "    if numero > 0:\n",
        "        print(f\"Los divisores de {numero} son: \")\n",
        "        for i in range(1, numero + 1):\n",
        "            if numero % i == 0:\n",
        "                print(i)\n",
        "        break\n",
        "    else:\n",
        "        print(\"El número ingresado no es mayor que cero\")"
      ],
      "metadata": {
        "colab": {
          "base_uri": "https://localhost:8080/"
        },
        "id": "dfLxKf8D4Qru",
        "outputId": "46e85f8b-f2ba-414b-a288-06b6ddc94e69"
      },
      "execution_count": 52,
      "outputs": [
        {
          "output_type": "stream",
          "name": "stdout",
          "text": [
            "Introduce un número mayor que cero: 0\n",
            "El número ingresado no es mayor que cero\n",
            "Introduce un número mayor que cero: 4\n",
            "Los divisores de 4 son: \n",
            "1\n",
            "2\n",
            "4\n"
          ]
        }
      ]
    },
    {
      "cell_type": "code",
      "source": [
        "frase = input(\"Ingresa una frase: \")\n",
        "letra = input(\"Ingresa una letra: \")\n",
        "contador = 0\n",
        "for digito in frase:\n",
        "  if digito.lower() == letra.lower():\n",
        "    contador += 1\n",
        "print(f\"La letra {letra} aparece {contador} veces en la frase: {frase}\")"
      ],
      "metadata": {
        "colab": {
          "base_uri": "https://localhost:8080/"
        },
        "id": "lMWZ4fi3502o",
        "outputId": "eb8a8125-4c31-4a24-f40b-c0ffeeec38ab"
      },
      "execution_count": 54,
      "outputs": [
        {
          "output_type": "stream",
          "name": "stdout",
          "text": [
            "Ingresa una frase: vamos con todo\n",
            "Ingresa una letra: O\n",
            "La letra O aparece 4 veces en la frase: vamos con todo\n"
          ]
        }
      ]
    },
    {
      "cell_type": "code",
      "source": [
        "numero = int(input(\"Ingrese un número entero: \"))\n",
        "while True:\n",
        "  numero_mayor = int(input(f\"Ingrese un numero mayor que {numero}: \"))\n",
        "  if numero_mayor > numero:\n",
        "    break\n",
        "  else:\n",
        "    print(f\"El número {numero_mayor} no es válido por no ser mayor o igual que {numero}.\")\n",
        "\n",
        "for digito in range(numero, numero_mayor, 2):\n",
        "  print(digito)\n",
        "\n"
      ],
      "metadata": {
        "colab": {
          "base_uri": "https://localhost:8080/"
        },
        "id": "s5NJpJky-I1w",
        "outputId": "8c704f00-fadc-4e36-87ce-06096397b450"
      },
      "execution_count": 56,
      "outputs": [
        {
          "output_type": "stream",
          "name": "stdout",
          "text": [
            "Ingrese un número entero: 1\n",
            "Ingrese un numero mayor que 1: 0\n",
            "El número 0 no es válido por no ser mayor o igual que 1.\n",
            "Ingrese un numero mayor que 1: 10\n",
            "1\n",
            "3\n",
            "5\n",
            "7\n",
            "9\n"
          ]
        }
      ]
    },
    {
      "cell_type": "code",
      "source": [
        "while True:\n",
        "    numero = int(input(\"Ingrese un número mayor que 2: \"))\n",
        "    if numero > 2:\n",
        "        primo = False\n",
        "        divisor = 2\n",
        "        while divisor <= numero / 2:\n",
        "            if numero % divisor == 0:\n",
        "                primo = True\n",
        "                break\n",
        "            divisor += 1\n",
        "\n",
        "        if primo:\n",
        "            print(f\"El {numero} es primo\")\n",
        "        else:\n",
        "            print(f\"El {numero} no es primo\")\n",
        "        break\n",
        "    else:\n",
        "        print(\"El número ingresado no es mayor que 2.\")\n",
        "\n"
      ],
      "metadata": {
        "colab": {
          "base_uri": "https://localhost:8080/"
        },
        "id": "EAKDz9wcEChJ",
        "outputId": "3664f91a-078c-493d-ccd3-f2206379e680"
      },
      "execution_count": 62,
      "outputs": [
        {
          "output_type": "stream",
          "name": "stdout",
          "text": [
            "Ingrese un número mayor que 2: 1\n",
            "El número ingresado no es mayor que 2.\n",
            "Ingrese un número mayor que 2: 6\n",
            "El 6 es primo\n"
          ]
        }
      ]
    },
    {
      "cell_type": "code",
      "source": [
        "while True:\n",
        "    numero = int(input(\"Ingrese un número mayor que 2: \"))\n",
        "    if numero > 2:\n",
        "        primo = False\n",
        "        for divisor in range(2, numero):\n",
        "            if numero % divisor == 0:\n",
        "                primo = True\n",
        "                break\n",
        "\n",
        "        if primo:\n",
        "            print(f\"El {numero} es primo\")\n",
        "        else:\n",
        "            print(f\"El {numero} no es primo\")\n",
        "        break\n",
        "    else:\n",
        "        print(\"El número ingresado no es mayor que 2.\")\n",
        "\n"
      ],
      "metadata": {
        "colab": {
          "base_uri": "https://localhost:8080/"
        },
        "id": "XWErXRBpG06m",
        "outputId": "73bb4340-afe3-4e6a-aadb-a792d0b70034"
      },
      "execution_count": 67,
      "outputs": [
        {
          "output_type": "stream",
          "name": "stdout",
          "text": [
            "Ingrese un número mayor que 2: 0\n",
            "El número ingresado no es mayor que 2.\n",
            "Ingrese un número mayor que 2: 5\n",
            "El 5 no es primo\n"
          ]
        }
      ]
    },
    {
      "cell_type": "code",
      "source": [
        "a = 1\n",
        "\n",
        "b = 2\n",
        "\n",
        "print((a+b*2 < 6) and (a+b >= 3))"
      ],
      "metadata": {
        "colab": {
          "base_uri": "https://localhost:8080/"
        },
        "id": "fmcjREJSJUgj",
        "outputId": "e34c2812-5617-47e0-e671-25831ffa6b41"
      },
      "execution_count": 68,
      "outputs": [
        {
          "output_type": "stream",
          "name": "stdout",
          "text": [
            "True\n"
          ]
        }
      ]
    },
    {
      "cell_type": "code",
      "source": [
        "i = 0\n",
        "\n",
        "while i != 3 + 2*4 / 2:\n",
        "\n",
        "    j = 0\n",
        "\n",
        "    while j != 3 + (2*4 / 2):\n",
        "\n",
        "        print(\"i vale\", i, \"y j vale\", j)\n",
        "\n",
        "        j += 1\n",
        "\n",
        "    i += 1"
      ],
      "metadata": {
        "colab": {
          "base_uri": "https://localhost:8080/"
        },
        "id": "BhWAuwwlKS83",
        "outputId": "aac684b0-d36b-488b-998e-ec462f0edd15"
      },
      "execution_count": 69,
      "outputs": [
        {
          "output_type": "stream",
          "name": "stdout",
          "text": [
            "i vale 0 y j vale 0\n",
            "i vale 0 y j vale 1\n",
            "i vale 0 y j vale 2\n",
            "i vale 0 y j vale 3\n",
            "i vale 0 y j vale 4\n",
            "i vale 0 y j vale 5\n",
            "i vale 0 y j vale 6\n",
            "i vale 1 y j vale 0\n",
            "i vale 1 y j vale 1\n",
            "i vale 1 y j vale 2\n",
            "i vale 1 y j vale 3\n",
            "i vale 1 y j vale 4\n",
            "i vale 1 y j vale 5\n",
            "i vale 1 y j vale 6\n",
            "i vale 2 y j vale 0\n",
            "i vale 2 y j vale 1\n",
            "i vale 2 y j vale 2\n",
            "i vale 2 y j vale 3\n",
            "i vale 2 y j vale 4\n",
            "i vale 2 y j vale 5\n",
            "i vale 2 y j vale 6\n",
            "i vale 3 y j vale 0\n",
            "i vale 3 y j vale 1\n",
            "i vale 3 y j vale 2\n",
            "i vale 3 y j vale 3\n",
            "i vale 3 y j vale 4\n",
            "i vale 3 y j vale 5\n",
            "i vale 3 y j vale 6\n",
            "i vale 4 y j vale 0\n",
            "i vale 4 y j vale 1\n",
            "i vale 4 y j vale 2\n",
            "i vale 4 y j vale 3\n",
            "i vale 4 y j vale 4\n",
            "i vale 4 y j vale 5\n",
            "i vale 4 y j vale 6\n",
            "i vale 5 y j vale 0\n",
            "i vale 5 y j vale 1\n",
            "i vale 5 y j vale 2\n",
            "i vale 5 y j vale 3\n",
            "i vale 5 y j vale 4\n",
            "i vale 5 y j vale 5\n",
            "i vale 5 y j vale 6\n",
            "i vale 6 y j vale 0\n",
            "i vale 6 y j vale 1\n",
            "i vale 6 y j vale 2\n",
            "i vale 6 y j vale 3\n",
            "i vale 6 y j vale 4\n",
            "i vale 6 y j vale 5\n",
            "i vale 6 y j vale 6\n"
          ]
        }
      ]
    }
  ]
}