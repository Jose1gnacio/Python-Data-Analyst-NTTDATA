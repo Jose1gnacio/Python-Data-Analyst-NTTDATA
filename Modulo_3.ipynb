{
  "nbformat": 4,
  "nbformat_minor": 0,
  "metadata": {
    "colab": {
      "provenance": [],
      "authorship_tag": "ABX9TyOnJB7zlhPtIQMAmJngUyTL",
      "include_colab_link": true
    },
    "kernelspec": {
      "name": "python3",
      "display_name": "Python 3"
    },
    "language_info": {
      "name": "python"
    }
  },
  "cells": [
    {
      "cell_type": "markdown",
      "metadata": {
        "id": "view-in-github",
        "colab_type": "text"
      },
      "source": [
        "<a href=\"https://colab.research.google.com/github/Jose1gnacio/Python-Data-Analyst-NTTDATA/blob/main/Modulo_3.ipynb\" target=\"_parent\"><img src=\"https://colab.research.google.com/assets/colab-badge.svg\" alt=\"Open In Colab\"/></a>"
      ]
    },
    {
      "cell_type": "code",
      "execution_count": 2,
      "metadata": {
        "id": "-QFKDZow7-Jt",
        "colab": {
          "base_uri": "https://localhost:8080/"
        },
        "outputId": "edd64233-8c76-46f6-b8d4-ee1e6d257ef6"
      },
      "outputs": [
        {
          "output_type": "stream",
          "name": "stdout",
          "text": [
            "['rojo', 'verde', 'amarillo', 'azul', 'blanco']\n"
          ]
        }
      ],
      "source": [
        "colores = [\"rojo\", \"verde\", \"amarillo\", \"azul\", \"blanco\"]\n",
        "print(colores)"
      ]
    },
    {
      "cell_type": "code",
      "source": [
        "print(colores[1])"
      ],
      "metadata": {
        "colab": {
          "base_uri": "https://localhost:8080/"
        },
        "id": "H8DBF5FAiu5u",
        "outputId": "4d4997ef-01f4-4d69-a012-3c6a17c7b701"
      },
      "execution_count": 3,
      "outputs": [
        {
          "output_type": "stream",
          "name": "stdout",
          "text": [
            "verde\n"
          ]
        }
      ]
    },
    {
      "cell_type": "code",
      "source": [
        "lista_num = []\n",
        "for n in range(1,11):\n",
        "  lista_num.append(n)\n",
        "print(lista_num)"
      ],
      "metadata": {
        "colab": {
          "base_uri": "https://localhost:8080/"
        },
        "id": "vUqup7U4jFW2",
        "outputId": "9e0451d1-e5f9-45b9-880e-20b2673c155f"
      },
      "execution_count": 5,
      "outputs": [
        {
          "output_type": "stream",
          "name": "stdout",
          "text": [
            "[1, 2, 3, 4, 5, 6, 7, 8, 9, 10]\n"
          ]
        }
      ]
    },
    {
      "cell_type": "code",
      "source": [
        "lista_num = []\n",
        "numero_inicial = int(input(\"Ingresa un número entero: \")) + 1\n",
        "numero_final = numero_inicial + 10\n",
        "for n in range(numero_inicial, numero_final):\n",
        "  lista_num.append(n)\n",
        "print(lista_num)\n"
      ],
      "metadata": {
        "colab": {
          "base_uri": "https://localhost:8080/"
        },
        "id": "YsTLRFvSj4nF",
        "outputId": "2bb7dbc0-6a52-489d-a368-f9a232af6014"
      },
      "execution_count": 8,
      "outputs": [
        {
          "output_type": "stream",
          "name": "stdout",
          "text": [
            "Ingresa un número entero: 11\n",
            "[12, 13, 14, 15, 16, 17, 18, 19, 20, 21]\n"
          ]
        }
      ]
    },
    {
      "cell_type": "code",
      "source": [
        "lista_peliculas = [ \"El Padrino\", \"Tiburón\", \"Los Cazafantasmas\", \"El Exorcista\", \"Pulp Fiction\", \"Star Wars\"]\n",
        "lista_puntuacion = []\n",
        "for i in lista_peliculas:\n",
        "  puntuacion = int(input(f\"Que puntuación entre 1 y 10 le darias a {i}? \"))\n",
        "  lista_puntuacion.append(puntuacion)\n",
        "\n",
        "for i in range(len(lista_puntuacion)):\n",
        "  if lista_puntuacion[i] >= 5:\n",
        "    print(f\"{lista_peliculas[i]} tiene una puntuación de {lista_puntuacion[i]}\")"
      ],
      "metadata": {
        "colab": {
          "base_uri": "https://localhost:8080/"
        },
        "id": "vkdPIqQ0laNG",
        "outputId": "6e5955cb-a0a2-4993-fc18-d8d15f419cda"
      },
      "execution_count": 15,
      "outputs": [
        {
          "output_type": "stream",
          "name": "stdout",
          "text": [
            "Que puntuación entre 1 y 10 le darias a El Padrino? 10\n",
            "Que puntuación entre 1 y 10 le darias a Tiburón? 7\n",
            "Que puntuación entre 1 y 10 le darias a Los Cazafantasmas? 5\n",
            "Que puntuación entre 1 y 10 le darias a El Exorcista? 4\n",
            "Que puntuación entre 1 y 10 le darias a Pulp Fiction? 10\n",
            "Que puntuación entre 1 y 10 le darias a Star Wars? 4\n",
            "El Padrino tiene una puntuación de 10\n",
            "Tiburón tiene una puntuación de 7\n",
            "Los Cazafantasmas tiene una puntuación de 5\n",
            "Pulp Fiction tiene una puntuación de 10\n"
          ]
        }
      ]
    },
    {
      "cell_type": "code",
      "source": [
        "lista_colores = ['rojo', 'verde', 'amarillo', 'azul', 'blanco', 'verde', 'rojo', 'rojo', 'verde']\n",
        "for color in lista_colores:\n",
        "    if lista_colores.count(color) == 1:\n",
        "        lista_colores.append(color)\n",
        "\n",
        "print(lista_colores)"
      ],
      "metadata": {
        "colab": {
          "base_uri": "https://localhost:8080/"
        },
        "id": "0Sc2HK8Utc6I",
        "outputId": "914fc1fa-bb04-48d1-8ecf-5efd7daa249b"
      },
      "execution_count": 17,
      "outputs": [
        {
          "output_type": "stream",
          "name": "stdout",
          "text": [
            "['rojo', 'verde', 'amarillo', 'azul', 'blanco', 'verde', 'rojo', 'rojo', 'verde', 'amarillo', 'azul', 'blanco']\n"
          ]
        }
      ]
    },
    {
      "cell_type": "code",
      "source": [
        "lista_colores = [\"rojo\", \"verde\", \"amarillo\", \"azul\", \"blanco\", \"negro\"]\n",
        "color = input(\"Ingresa el color que quieres buscar: \")\n",
        "if color in lista_colores:\n",
        "    posicion = lista_colores.index(color)\n",
        "    print(f\"El color {color} está en la posición: {posicion}\")\n",
        "else:\n",
        "    print(f\"El color {color} no se encuentra en la lista.\")"
      ],
      "metadata": {
        "colab": {
          "base_uri": "https://localhost:8080/"
        },
        "id": "WyLS5D_NwvyY",
        "outputId": "7d915fcb-f43e-4976-869d-53d81d637847"
      },
      "execution_count": 24,
      "outputs": [
        {
          "output_type": "stream",
          "name": "stdout",
          "text": [
            "Ingresa el color que quieres buscar: cafe\n",
            "El color cafe no se encuentra en la lista.\n"
          ]
        }
      ]
    },
    {
      "cell_type": "code",
      "source": [
        "lista_numeros = [1, 2, 3, 16, 18, 21, 25]\n",
        "numero = int(input(\"Ingresa un numero entre 1 y 30: \"))\n",
        "\n",
        "if numero in lista_numeros:\n",
        "    print(f\"El numero {numero} ya se encuentra en la lista.\")\n",
        "else:\n",
        "    for i in range(len(lista_numeros)):\n",
        "        if numero < lista_numeros[i]:\n",
        "            lista_numeros.insert(i, numero)\n",
        "            break\n",
        "    else:\n",
        "        lista_numeros.append(numero)\n",
        "\n",
        "print(lista_numeros)"
      ],
      "metadata": {
        "colab": {
          "base_uri": "https://localhost:8080/"
        },
        "id": "TD1-4iPWyhqG",
        "outputId": "6a0153c3-04f2-4794-ab34-fc81834e25b6"
      },
      "execution_count": 41,
      "outputs": [
        {
          "output_type": "stream",
          "name": "stdout",
          "text": [
            "Ingresa un numero entre 1 y 30: 11\n",
            "[1, 2, 3, 11, 16, 18, 21, 25]\n"
          ]
        }
      ]
    },
    {
      "cell_type": "code",
      "source": [
        "meses = (\"Enero\", \"Febrero\", \"Marzo\", \"Abril\", \"Mayo\", \"Junio\", \"Julio\", \"Agosto\", \"Septiembre\", \"Octubre\", \"Noviembre\", \"Diciembre\")\n",
        "digito = int(input(\"Ingresa un número del 1 al 12 \"))\n",
        "mes = meses[digito - 1]\n",
        "print(f\"El número {digito} corresponde al mes {mes}\")"
      ],
      "metadata": {
        "colab": {
          "base_uri": "https://localhost:8080/"
        },
        "id": "VUIjZT4fGBdC",
        "outputId": "c79784ae-79b4-4358-dcd6-f25395c8394e"
      },
      "execution_count": 48,
      "outputs": [
        {
          "output_type": "stream",
          "name": "stdout",
          "text": [
            "Ingresa un número del 1 al 12 11\n",
            "El número 11 corresponde al mes Noviembre\n"
          ]
        }
      ]
    },
    {
      "cell_type": "code",
      "source": [
        "numeros = (5, 6, 4, 8, 19, 0, 4, 6, 6, 5, 4, 8, 3, 5, 6, 0)\n",
        "numero = int(input(\"Ingresa un numero del 0 al 20: \"))\n",
        "cant = numeros.count(numero)\n",
        "if cant:\n",
        "  print(f\"El número {numero} esta repetido {cant} veces.\")\n",
        "else:\n",
        "  print(f\"EL número {numero} no se encuentra en la tupla.\")\n"
      ],
      "metadata": {
        "colab": {
          "base_uri": "https://localhost:8080/"
        },
        "id": "lsHD15CzI9q-",
        "outputId": "58465b7b-1390-418a-9ba9-afb2ac6624a3"
      },
      "execution_count": 51,
      "outputs": [
        {
          "output_type": "stream",
          "name": "stdout",
          "text": [
            "Ingresa un numero del 0 al 20: 20\n",
            "EL número 20 no se encuentra en la tupla. 0\n"
          ]
        }
      ]
    },
    {
      "cell_type": "code",
      "source": [
        "conjunto = set('Estoy muy contento')\n",
        "print(conjunto)"
      ],
      "metadata": {
        "colab": {
          "base_uri": "https://localhost:8080/"
        },
        "id": "UJXTXrqxLEIa",
        "outputId": "80edee7f-3083-43e4-d5b1-f812943de9bd"
      },
      "execution_count": 55,
      "outputs": [
        {
          "output_type": "stream",
          "name": "stdout",
          "text": [
            "{'n', 'E', 'u', 't', 's', 'e', 'm', 'y', ' ', 'o', 'c'}\n"
          ]
        }
      ]
    },
    {
      "cell_type": "code",
      "source": [
        "mezcla = {\"azul\", \"verde\", 1, 6, \"rojo\", 3, 3, \"verde\", \"azul\", 1, \"blanco\"}\n",
        "numero = int(input(\"Ingrese un número: \"))\n",
        "mezcla.update({\"Negro\", numero})\n",
        "mezcla.remove(3)\n",
        "print(mezcla)"
      ],
      "metadata": {
        "colab": {
          "base_uri": "https://localhost:8080/"
        },
        "id": "KA6jOBJHMxWT",
        "outputId": "14c2c90b-6dd3-429e-c98a-6b9373aa2cbc"
      },
      "execution_count": 58,
      "outputs": [
        {
          "output_type": "stream",
          "name": "stdout",
          "text": [
            "Ingrese un número: 11\n",
            "{'rojo', 1, 'blanco', 6, 'verde', 'Negro', 11, 'azul'}\n"
          ]
        }
      ]
    },
    {
      "cell_type": "code",
      "source": [
        "mezcla = {1, 'blanco', 4, 'verde', 6, 8, 'rojo', 'azul', 4, 1, 'verde'}\n",
        "if \"verde\" in colores:\n",
        "  print(\"El color verde si se encuentra en el conjunto\")\n",
        "else:\n",
        "  print(\"El color verde no se encuentra en el conjunto\")"
      ],
      "metadata": {
        "colab": {
          "base_uri": "https://localhost:8080/"
        },
        "id": "y9Rzy6pUOY73",
        "outputId": "c2258b9a-130b-44b9-80d3-051371b642b5"
      },
      "execution_count": 59,
      "outputs": [
        {
          "output_type": "stream",
          "name": "stdout",
          "text": [
            "El color verde si se encuentra en el conjunto\n"
          ]
        }
      ]
    },
    {
      "cell_type": "code",
      "source": [
        "animales = {\"perro\":\"galgo\", \"gato\":\"siamés\", \"pájaro\":\"canario\"}\n",
        "for clave in animales:\n",
        "    print(clave, '-', animales[clave])"
      ],
      "metadata": {
        "colab": {
          "base_uri": "https://localhost:8080/"
        },
        "id": "abHdHJrDPGnm",
        "outputId": "61da7d84-65b5-4596-a516-4075d8487de3"
      },
      "execution_count": 61,
      "outputs": [
        {
          "output_type": "stream",
          "name": "stdout",
          "text": [
            "perro - galgo\n",
            "gato - siamés\n",
            "pájaro - canario\n"
          ]
        }
      ]
    },
    {
      "cell_type": "code",
      "source": [
        "animales[\"tigre\"] = \"bengala\"\n",
        "for clave in animales:\n",
        "    print(clave, '-', animales[clave])"
      ],
      "metadata": {
        "colab": {
          "base_uri": "https://localhost:8080/"
        },
        "id": "fWEigCQCRgNw",
        "outputId": "d7750956-abc6-4ceb-a196-31f5dde57923"
      },
      "execution_count": 62,
      "outputs": [
        {
          "output_type": "stream",
          "name": "stdout",
          "text": [
            "perro - galgo\n",
            "gato - siamés\n",
            "pájaro - canario\n",
            "tigre - bengala\n"
          ]
        }
      ]
    },
    {
      "cell_type": "code",
      "source": [
        "datos_usuario = {}\n",
        "datos_usuario[\"Nombre\"] = input(\"Ingrese su nombre: \")\n",
        "datos_usuario[\"Apellidos\"] = input(\"Ingrese sus apellidos: \")\n",
        "datos_usuario[\"Edad\"] = input(\"Ingrese su edad: \")\n",
        "datos_usuario[\"Ciudad\"] = input(\"Ciudad en la que vive? \")\n",
        "datos_usuario[\"Telefono\"] = input(\"Ingrese su numero de teléfono: \")\n",
        "print(f\"{datos_usuario['Nombre']} {datos_usuario['Apellidos']} tiene {datos_usuario['Edad']} años, vive en {datos_usuario['Ciudad']} y su número de telefono es {datos_usuario['Telefono']} \")\n",
        "\n"
      ],
      "metadata": {
        "colab": {
          "base_uri": "https://localhost:8080/"
        },
        "id": "ae-XHLAJSulX",
        "outputId": "655c501a-a3b6-421a-828e-481409ab5b98"
      },
      "execution_count": 64,
      "outputs": [
        {
          "output_type": "stream",
          "name": "stdout",
          "text": [
            "Ingrese su nombre: José\n",
            "Ingrese sus apellidos: Álvarez Nieto\n",
            "Ingrese su edad: 34\n",
            "Ciudad en la que vive? Santiago\n",
            "Ingrese su numero de teléfono: 987452311\n",
            "José Álvarez Nieto tiene 34 años, vive en Santiago y su número de telefono es 987452311 \n"
          ]
        }
      ]
    },
    {
      "cell_type": "code",
      "source": [
        "agenda = {}\n",
        "agregar_info = input(\"¿Quieres agregar información al diccionario? (responde Si o No) \")\n",
        "if agregar_info.lower() == \"si\":\n",
        "    while True:\n",
        "        dato = input(\"¿Qué dato quieres incluir? \")\n",
        "        valor = input(f\"Introduce {dato}: \")\n",
        "        agenda[dato] = valor\n",
        "\n",
        "        agregar_otro = input(\"¿Quieres introducir otro dato? (responde solo Si o No) \")\n",
        "        if agregar_otro.lower() != \"si\":\n",
        "            break\n",
        "\n",
        "print(agenda)"
      ],
      "metadata": {
        "colab": {
          "base_uri": "https://localhost:8080/"
        },
        "id": "1C6cK-NvYa1u",
        "outputId": "cefdfe2a-9dd9-474b-e51c-89c685f238d6"
      },
      "execution_count": 65,
      "outputs": [
        {
          "output_type": "stream",
          "name": "stdout",
          "text": [
            "¿Quieres agregar información al diccionario? (responde Si o No) SI\n",
            "¿Qué dato quieres incluir? Nombre\n",
            "Introduce Nombre: José\n",
            "¿Quieres introducir otro dato? (responde solo Si o No) NO\n",
            "{'Nombre': 'José'}\n"
          ]
        }
      ]
    },
    {
      "cell_type": "code",
      "source": [
        "compras = {}\n",
        "while True:\n",
        "    digito = int(input(\"\\n¿Qué quieres hacer con tu lista de compras?\\n1. Agregar un producto: Esto agrega un producto a la lista.\\n2. Eliminar un producto: Esto elimina un producto de la lista.\\n3. Listar todos los productos: Esto muestra todos los productos de la lista.\\n4. Cerrar: Esto terminará el programa.\\nElige un número de las opciones anteriores: \"))\n",
        "    if digito == 1:\n",
        "        producto = input(\"¿Qué producto quieres agregar? \")\n",
        "        cantidad = int(input(f\"Introduce la cantidad: \"))\n",
        "        compras[producto] = cantidad\n",
        "    elif digito == 2:\n",
        "        producto = input(\"¿Qué producto deseas eliminar? \")\n",
        "        del compras[producto]\n",
        "    elif digito == 3:\n",
        "        for clave in compras:\n",
        "            print(clave, '-', compras[clave])\n",
        "    elif digito == 4:\n",
        "        print(\"\\n¡Hasta luego!\")\n",
        "        break\n",
        "    else:\n",
        "        print(\"\\nOpción inválida. Por favor, elige una opción del 1 al 4.\")\n"
      ],
      "metadata": {
        "colab": {
          "base_uri": "https://localhost:8080/"
        },
        "id": "ZeYdIjrweZLI",
        "outputId": "6a9ac1b0-2569-4ea5-d0a3-3f0d99ef5a88"
      },
      "execution_count": 71,
      "outputs": [
        {
          "output_type": "stream",
          "name": "stdout",
          "text": [
            "\n",
            "¿Qué quieres hacer con tu lista de compras?\n",
            "1. Agregar un producto: Esto agrega un producto a la lista.\n",
            "2. Eliminar un producto: Esto elimina un producto de la lista.\n",
            "3. Listar todos los productos: Esto muestra todos los productos de la lista.\n",
            "4. Cerrar: Esto terminará el programa.\n",
            "Elige un número de las opciones anteriores: 1\n",
            "¿Qué producto quieres agregar? Leche\n",
            "Introduce la cantidad: 1\n",
            "\n",
            "¿Qué quieres hacer con tu lista de compras?\n",
            "1. Agregar un producto: Esto agrega un producto a la lista.\n",
            "2. Eliminar un producto: Esto elimina un producto de la lista.\n",
            "3. Listar todos los productos: Esto muestra todos los productos de la lista.\n",
            "4. Cerrar: Esto terminará el programa.\n",
            "Elige un número de las opciones anteriores: 1\n",
            "¿Qué producto quieres agregar? cereal\n",
            "Introduce la cantidad: 2\n",
            "\n",
            "¿Qué quieres hacer con tu lista de compras?\n",
            "1. Agregar un producto: Esto agrega un producto a la lista.\n",
            "2. Eliminar un producto: Esto elimina un producto de la lista.\n",
            "3. Listar todos los productos: Esto muestra todos los productos de la lista.\n",
            "4. Cerrar: Esto terminará el programa.\n",
            "Elige un número de las opciones anteriores: 2\n",
            "¿Qué producto deseas eliminar? Leche\n",
            "\n",
            "¿Qué quieres hacer con tu lista de compras?\n",
            "1. Agregar un producto: Esto agrega un producto a la lista.\n",
            "2. Eliminar un producto: Esto elimina un producto de la lista.\n",
            "3. Listar todos los productos: Esto muestra todos los productos de la lista.\n",
            "4. Cerrar: Esto terminará el programa.\n",
            "Elige un número de las opciones anteriores: 3\n",
            "cereal - 2\n",
            "\n",
            "¿Qué quieres hacer con tu lista de compras?\n",
            "1. Agregar un producto: Esto agrega un producto a la lista.\n",
            "2. Eliminar un producto: Esto elimina un producto de la lista.\n",
            "3. Listar todos los productos: Esto muestra todos los productos de la lista.\n",
            "4. Cerrar: Esto terminará el programa.\n",
            "Elige un número de las opciones anteriores: 4\n",
            "\n",
            "¡Hasta luego!\n"
          ]
        }
      ]
    }
  ]
}